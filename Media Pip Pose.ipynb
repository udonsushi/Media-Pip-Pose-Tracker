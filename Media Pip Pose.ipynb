{
 "cells": [
  {
   "cell_type": "code",
   "execution_count": 31,
   "id": "776ac005-d61d-4cb9-b55a-ff9b40a86191",
   "metadata": {
    "scrolled": true
   },
   "outputs": [
    {
     "name": "stdout",
     "output_type": "stream",
     "text": [
      "Requirement already satisfied: mediapipe in c:\\users\\leong\\appdata\\local\\programs\\python\\python312\\lib\\site-packages (0.10.14)\n",
      "Requirement already satisfied: opencv-python in c:\\users\\leong\\appdata\\local\\programs\\python\\python312\\lib\\site-packages (4.9.0.80)\n",
      "Requirement already satisfied: absl-py in c:\\users\\leong\\appdata\\local\\programs\\python\\python312\\lib\\site-packages (from mediapipe) (2.1.0)\n",
      "Requirement already satisfied: attrs>=19.1.0 in c:\\users\\leong\\appdata\\local\\programs\\python\\python312\\lib\\site-packages (from mediapipe) (23.2.0)\n",
      "Requirement already satisfied: flatbuffers>=2.0 in c:\\users\\leong\\appdata\\local\\programs\\python\\python312\\lib\\site-packages (from mediapipe) (24.3.25)\n",
      "Requirement already satisfied: jax in c:\\users\\leong\\appdata\\local\\programs\\python\\python312\\lib\\site-packages (from mediapipe) (0.4.28)\n",
      "Requirement already satisfied: jaxlib in c:\\users\\leong\\appdata\\local\\programs\\python\\python312\\lib\\site-packages (from mediapipe) (0.4.28)\n",
      "Requirement already satisfied: matplotlib in c:\\users\\leong\\appdata\\local\\programs\\python\\python312\\lib\\site-packages (from mediapipe) (3.9.0)\n",
      "Requirement already satisfied: numpy in c:\\users\\leong\\appdata\\local\\programs\\python\\python312\\lib\\site-packages (from mediapipe) (1.26.4)\n",
      "Requirement already satisfied: opencv-contrib-python in c:\\users\\leong\\appdata\\local\\programs\\python\\python312\\lib\\site-packages (from mediapipe) (4.9.0.80)\n",
      "Requirement already satisfied: protobuf<5,>=4.25.3 in c:\\users\\leong\\appdata\\local\\programs\\python\\python312\\lib\\site-packages (from mediapipe) (4.25.3)\n",
      "Requirement already satisfied: sounddevice>=0.4.4 in c:\\users\\leong\\appdata\\local\\programs\\python\\python312\\lib\\site-packages (from mediapipe) (0.4.7)\n",
      "Requirement already satisfied: CFFI>=1.0 in c:\\users\\leong\\appdata\\local\\programs\\python\\python312\\lib\\site-packages (from sounddevice>=0.4.4->mediapipe) (1.16.0)\n",
      "Requirement already satisfied: ml-dtypes>=0.2.0 in c:\\users\\leong\\appdata\\local\\programs\\python\\python312\\lib\\site-packages (from jax->mediapipe) (0.4.0)\n",
      "Requirement already satisfied: opt-einsum in c:\\users\\leong\\appdata\\local\\programs\\python\\python312\\lib\\site-packages (from jax->mediapipe) (3.3.0)\n",
      "Requirement already satisfied: scipy>=1.9 in c:\\users\\leong\\appdata\\local\\programs\\python\\python312\\lib\\site-packages (from jax->mediapipe) (1.13.1)\n",
      "Requirement already satisfied: contourpy>=1.0.1 in c:\\users\\leong\\appdata\\local\\programs\\python\\python312\\lib\\site-packages (from matplotlib->mediapipe) (1.2.1)\n",
      "Requirement already satisfied: cycler>=0.10 in c:\\users\\leong\\appdata\\local\\programs\\python\\python312\\lib\\site-packages (from matplotlib->mediapipe) (0.12.1)\n",
      "Requirement already satisfied: fonttools>=4.22.0 in c:\\users\\leong\\appdata\\local\\programs\\python\\python312\\lib\\site-packages (from matplotlib->mediapipe) (4.53.0)\n",
      "Requirement already satisfied: kiwisolver>=1.3.1 in c:\\users\\leong\\appdata\\local\\programs\\python\\python312\\lib\\site-packages (from matplotlib->mediapipe) (1.4.5)\n",
      "Requirement already satisfied: packaging>=20.0 in c:\\users\\leong\\appdata\\local\\programs\\python\\python312\\lib\\site-packages (from matplotlib->mediapipe) (24.0)\n",
      "Requirement already satisfied: pillow>=8 in c:\\users\\leong\\appdata\\local\\programs\\python\\python312\\lib\\site-packages (from matplotlib->mediapipe) (10.3.0)\n",
      "Requirement already satisfied: pyparsing>=2.3.1 in c:\\users\\leong\\appdata\\local\\programs\\python\\python312\\lib\\site-packages (from matplotlib->mediapipe) (3.1.2)\n",
      "Requirement already satisfied: python-dateutil>=2.7 in c:\\users\\leong\\appdata\\local\\programs\\python\\python312\\lib\\site-packages (from matplotlib->mediapipe) (2.9.0.post0)\n",
      "Requirement already satisfied: pycparser in c:\\users\\leong\\appdata\\local\\programs\\python\\python312\\lib\\site-packages (from CFFI>=1.0->sounddevice>=0.4.4->mediapipe) (2.22)\n",
      "Requirement already satisfied: six>=1.5 in c:\\users\\leong\\appdata\\local\\programs\\python\\python312\\lib\\site-packages (from python-dateutil>=2.7->matplotlib->mediapipe) (1.16.0)\n",
      "Requirement already satisfied: pygame in c:\\users\\leong\\appdata\\local\\programs\\python\\python312\\lib\\site-packages (2.5.2)\n"
     ]
    }
   ],
   "source": [
    "!pip install mediapipe opencv-python\n",
    "!pip install pygame"
   ]
  },
  {
   "cell_type": "code",
   "execution_count": 46,
   "id": "d114b817-5ded-43af-85b1-79ca639b4107",
   "metadata": {},
   "outputs": [],
   "source": [
    "import cv2\n",
    "import mediapipe\n",
    "import numpy\n",
    "import pygame\n",
    "mp_drawing = mediapipe.solutions.drawing_utils  #drawing tools for drawing lines and such\n",
    "mp_pose = mediapipe.solutions.pose  #pose estimation models\n",
    "\n",
    "pygame.mixer.init()  #intialize pygame mixer\n",
    "\n",
    "#load sound files\n",
    "current_category = None\n",
    "forward_sound = pygame.mixer.Sound(\"forward.mp3\")\n",
    "backward_sound = pygame.mixer.Sound(\"backward.mp3\")\n"
   ]
  },
  {
   "cell_type": "code",
   "execution_count": 47,
   "id": "7e6132bf-3508-4e3e-a746-1de8a839952b",
   "metadata": {},
   "outputs": [
    {
     "data": {
      "text/plain": [
       "<pygame.mixer.Channel at 0x21407f5dab0>"
      ]
     },
     "execution_count": 47,
     "metadata": {},
     "output_type": "execute_result"
    }
   ],
   "source": [
    "sound = pygame.mixer.Sound(\"forward.mp3\")\n",
    "sound.play()"
   ]
  },
  {
   "cell_type": "markdown",
   "id": "00086af5-7006-4bdc-b132-8c14e0d6b792",
   "metadata": {},
   "source": [
    "<img src='https://www.researchgate.net/publication/361071987/figure/fig2/AS:11431281214731862@1703733107226/33-Landmarks-detected-on-the-human-body-using-MediaPipe.png' alt='Labelled Joints Image' width='500'>"
   ]
  },
  {
   "cell_type": "code",
   "execution_count": 50,
   "id": "e0108495-7f4d-45bf-96de-4d6cd2907bb0",
   "metadata": {},
   "outputs": [],
   "source": [
    "def calc_angle(first,second,third):\n",
    "    first = numpy.array(first)  #first joint's coords\n",
    "    second = numpy.array(second)  #second joint's coords\n",
    "    third = numpy.array(third)  #third joint's coords\n",
    "\n",
    "    #radians = [arctan of the vector b to c] - [arctan of the vector a to b]\n",
    "    #if doing shoulder, elbow, wrist then it would be\n",
    "    #radians = arctan(elbow[y]-wrist[y], elbow[x]-wrist[x]) - actan([shoulder[y]-elbow[y], shoulder[x]-elbow[x])\n",
    "    radians = numpy.arctan2(third[1]-second[1], third[0]-second[0]) - numpy.arctan2(first[1]-second[1], first[0]-second[0])\n",
    "    angle = numpy.abs(radians*180.0/numpy.pi)  #turn radians into angle\n",
    "\n",
    "    if angle > 180.0:\n",
    "        angle = 360-angle\n",
    "    return angle"
   ]
  },
  {
   "cell_type": "code",
   "execution_count": 54,
   "id": "fa755d16-8e4f-4f5c-9e88-06cdfe3b66cc",
   "metadata": {},
   "outputs": [],
   "source": [
    "def audio(angle):\n",
    "    global current_category\n",
    "    try:\n",
    "        if angle > 95:\n",
    "            new_category = 'forward'\n",
    "        elif 60 < angle <= 95:\n",
    "            new_category = None\n",
    "        else:\n",
    "            new_category = 'backward'\n",
    "\n",
    "        # Only stop and play a new sound if the category has changed\n",
    "        if new_category != current_category:\n",
    "            pygame.mixer.stop()  # Stop any currently playing sound\n",
    "            if new_category == 'forward':\n",
    "                forward_sound.play()\n",
    "            elif new_category == 'backward':\n",
    "                backward_sound.play()\n",
    "\n",
    "            current_category = new_category  # Update the current category\n",
    "    except Exception as e:\n",
    "        print(f\"Error in audio function: {e}\")\n"
   ]
  },
  {
   "cell_type": "code",
   "execution_count": 55,
   "id": "6b033b19-195e-4839-8cf4-e21fde97c46c",
   "metadata": {},
   "outputs": [],
   "source": [
    "# Function to adjust brightness\n",
    "def adjust_brightness(image, alpha, beta):\n",
    "    # Clip the values to be in range [0, 255] to ensure valid pixel values\n",
    "    return np.clip(alpha * image + beta, 0, 255).astype(np.uint8)"
   ]
  },
  {
   "cell_type": "code",
   "execution_count": 56,
   "id": "9fc1cf5c-b2a1-47ff-b7c1-908e6f08e418",
   "metadata": {},
   "outputs": [],
   "source": [
    "# Get video feed\n",
    "camera = cv2.VideoCapture(0)\n",
    "try:\n",
    "    with mp_pose.Pose(min_detection_confidence=0.5, min_tracking_confidence=0.5) as pose:\n",
    "        while camera.isOpened():\n",
    "            returned, frame = camera.read()\n",
    "            \n",
    "            # Adjust brightness (alpha is the scaling factor, beta is the added brightness)\n",
    "            frame = adjust_brightness(frame, alpha=1.5, beta=70)  # Increase alpha and/or beta for more brightness\n",
    "\n",
    "            # Detect poses\n",
    "            image = cv2.cvtColor(frame, cv2.COLOR_BGR2RGB)\n",
    "            image.flags.writeable = False\n",
    "\n",
    "            results = pose.process(image)\n",
    "\n",
    "            image.flags.writeable = True\n",
    "            image = cv2.cvtColor(image, cv2.COLOR_RGB2BGR)\n",
    "\n",
    "            try:\n",
    "                landmarks = results.pose_landmarks.landmark\n",
    "\n",
    "                # Get coordinates of the nose, left shoulder, and right shoulder\n",
    "                nose = [landmarks[mp_pose.PoseLandmark.NOSE.value].x, landmarks[mp_pose.PoseLandmark.NOSE.value].y]\n",
    "                left_shoulder = [landmarks[mp_pose.PoseLandmark.LEFT_SHOULDER.value].x, landmarks[mp_pose.PoseLandmark.LEFT_SHOULDER.value].y]\n",
    "                right_shoulder = [landmarks[mp_pose.PoseLandmark.RIGHT_SHOULDER.value].x, landmarks[mp_pose.PoseLandmark.RIGHT_SHOULDER.value].y]\n",
    "\n",
    "                # Calculate the angle\n",
    "                angle = calc_angle(left_shoulder, nose, right_shoulder)\n",
    "\n",
    "                #Play sound\n",
    "                audio(angle)\n",
    "\n",
    "                # Determine posture\n",
    "                if angle > 95:\n",
    "                    posture = \"Leaning Forward\"\n",
    "                elif 60 < angle <= 95:\n",
    "                    posture = \"Upright\"\n",
    "                else:\n",
    "                    posture = \"Leaning Backward\"\n",
    "\n",
    "                # Print angle and posture\n",
    "                coords = tuple(np.multiply(nose, [700, 550]).astype(int))\n",
    "                cv2.putText(image, f'Angle: {int(angle)} {posture}', coords, cv2.FONT_HERSHEY_SIMPLEX, 0.5, (255, 255, 255), 2, cv2.LINE_AA)\n",
    "\n",
    "            except Exception as e:\n",
    "                pass\n",
    "\n",
    "            # Render poses\n",
    "            mp_drawing.draw_landmarks(image, results.pose_landmarks, mp_pose.POSE_CONNECTIONS)\n",
    "\n",
    "            cv2.imshow(\"Camera Feed\", image)\n",
    "\n",
    "            if cv2.waitKey(10) & 0xFF == ord('q'):\n",
    "                break\n",
    "\n",
    "finally:\n",
    "    camera.release()\n",
    "    cv2.destroyAllWindows()\n"
   ]
  },
  {
   "cell_type": "code",
   "execution_count": null,
   "id": "38fead57-946b-46ba-a545-5e1bbc141574",
   "metadata": {},
   "outputs": [],
   "source": []
  },
  {
   "cell_type": "code",
   "execution_count": null,
   "id": "3f7041cc-5d5e-4a03-a9c4-7b524f1afd16",
   "metadata": {},
   "outputs": [],
   "source": []
  }
 ],
 "metadata": {
  "kernelspec": {
   "display_name": "Python 3 (ipykernel)",
   "language": "python",
   "name": "python3"
  },
  "language_info": {
   "codemirror_mode": {
    "name": "ipython",
    "version": 3
   },
   "file_extension": ".py",
   "mimetype": "text/x-python",
   "name": "python",
   "nbconvert_exporter": "python",
   "pygments_lexer": "ipython3",
   "version": "3.12.3"
  }
 },
 "nbformat": 4,
 "nbformat_minor": 5
}
