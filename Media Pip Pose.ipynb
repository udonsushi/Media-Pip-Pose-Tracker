{
 "cells": [
  {
   "cell_type": "code",
   "execution_count": 3,
   "id": "776ac005-d61d-4cb9-b55a-ff9b40a86191",
   "metadata": {
    "scrolled": true
   },
   "outputs": [
    {
     "name": "stdout",
     "output_type": "stream",
     "text": [
      "Requirement already satisfied: mediapipe in c:\\users\\leong\\appdata\\local\\programs\\python\\python312\\lib\\site-packages (0.10.14)\n",
      "Requirement already satisfied: opencv-python in c:\\users\\leong\\appdata\\local\\programs\\python\\python312\\lib\\site-packages (4.9.0.80)\n",
      "Requirement already satisfied: absl-py in c:\\users\\leong\\appdata\\local\\programs\\python\\python312\\lib\\site-packages (from mediapipe) (2.1.0)\n",
      "Requirement already satisfied: attrs>=19.1.0 in c:\\users\\leong\\appdata\\local\\programs\\python\\python312\\lib\\site-packages (from mediapipe) (23.2.0)\n",
      "Requirement already satisfied: flatbuffers>=2.0 in c:\\users\\leong\\appdata\\local\\programs\\python\\python312\\lib\\site-packages (from mediapipe) (24.3.25)\n",
      "Requirement already satisfied: jax in c:\\users\\leong\\appdata\\local\\programs\\python\\python312\\lib\\site-packages (from mediapipe) (0.4.28)\n",
      "Requirement already satisfied: jaxlib in c:\\users\\leong\\appdata\\local\\programs\\python\\python312\\lib\\site-packages (from mediapipe) (0.4.28)\n",
      "Requirement already satisfied: matplotlib in c:\\users\\leong\\appdata\\local\\programs\\python\\python312\\lib\\site-packages (from mediapipe) (3.9.0)\n",
      "Requirement already satisfied: numpy in c:\\users\\leong\\appdata\\local\\programs\\python\\python312\\lib\\site-packages (from mediapipe) (1.26.4)\n",
      "Requirement already satisfied: opencv-contrib-python in c:\\users\\leong\\appdata\\local\\programs\\python\\python312\\lib\\site-packages (from mediapipe) (4.9.0.80)\n",
      "Requirement already satisfied: protobuf<5,>=4.25.3 in c:\\users\\leong\\appdata\\local\\programs\\python\\python312\\lib\\site-packages (from mediapipe) (4.25.3)\n",
      "Requirement already satisfied: sounddevice>=0.4.4 in c:\\users\\leong\\appdata\\local\\programs\\python\\python312\\lib\\site-packages (from mediapipe) (0.4.7)\n",
      "Requirement already satisfied: CFFI>=1.0 in c:\\users\\leong\\appdata\\local\\programs\\python\\python312\\lib\\site-packages (from sounddevice>=0.4.4->mediapipe) (1.16.0)\n",
      "Requirement already satisfied: ml-dtypes>=0.2.0 in c:\\users\\leong\\appdata\\local\\programs\\python\\python312\\lib\\site-packages (from jax->mediapipe) (0.4.0)\n",
      "Requirement already satisfied: opt-einsum in c:\\users\\leong\\appdata\\local\\programs\\python\\python312\\lib\\site-packages (from jax->mediapipe) (3.3.0)\n",
      "Requirement already satisfied: scipy>=1.9 in c:\\users\\leong\\appdata\\local\\programs\\python\\python312\\lib\\site-packages (from jax->mediapipe) (1.13.1)\n",
      "Requirement already satisfied: contourpy>=1.0.1 in c:\\users\\leong\\appdata\\local\\programs\\python\\python312\\lib\\site-packages (from matplotlib->mediapipe) (1.2.1)\n",
      "Requirement already satisfied: cycler>=0.10 in c:\\users\\leong\\appdata\\local\\programs\\python\\python312\\lib\\site-packages (from matplotlib->mediapipe) (0.12.1)\n",
      "Requirement already satisfied: fonttools>=4.22.0 in c:\\users\\leong\\appdata\\local\\programs\\python\\python312\\lib\\site-packages (from matplotlib->mediapipe) (4.53.0)\n",
      "Requirement already satisfied: kiwisolver>=1.3.1 in c:\\users\\leong\\appdata\\local\\programs\\python\\python312\\lib\\site-packages (from matplotlib->mediapipe) (1.4.5)\n",
      "Requirement already satisfied: packaging>=20.0 in c:\\users\\leong\\appdata\\local\\programs\\python\\python312\\lib\\site-packages (from matplotlib->mediapipe) (24.0)\n",
      "Requirement already satisfied: pillow>=8 in c:\\users\\leong\\appdata\\local\\programs\\python\\python312\\lib\\site-packages (from matplotlib->mediapipe) (10.3.0)\n",
      "Requirement already satisfied: pyparsing>=2.3.1 in c:\\users\\leong\\appdata\\local\\programs\\python\\python312\\lib\\site-packages (from matplotlib->mediapipe) (3.1.2)\n",
      "Requirement already satisfied: python-dateutil>=2.7 in c:\\users\\leong\\appdata\\local\\programs\\python\\python312\\lib\\site-packages (from matplotlib->mediapipe) (2.9.0.post0)\n",
      "Requirement already satisfied: pycparser in c:\\users\\leong\\appdata\\local\\programs\\python\\python312\\lib\\site-packages (from CFFI>=1.0->sounddevice>=0.4.4->mediapipe) (2.22)\n",
      "Requirement already satisfied: six>=1.5 in c:\\users\\leong\\appdata\\local\\programs\\python\\python312\\lib\\site-packages (from python-dateutil>=2.7->matplotlib->mediapipe) (1.16.0)\n"
     ]
    }
   ],
   "source": [
    "!pip install mediapipe opencv-python"
   ]
  },
  {
   "cell_type": "code",
   "execution_count": 4,
   "id": "d114b817-5ded-43af-85b1-79ca639b4107",
   "metadata": {},
   "outputs": [],
   "source": [
    "import cv2\n",
    "import mediapipe\n",
    "import numpy\n",
    "mp_drawing = mediapipe.solutions.drawing_utils  #drawing tools for drawing lines and such\n",
    "mp_pose = mediapipe.solutions.pose  #pose estimation models"
   ]
  },
  {
   "cell_type": "markdown",
   "id": "d3578ac1-707e-45e7-94dd-8f6b52a8e6bc",
   "metadata": {},
   "source": [
    "<h1>Camera Stuff</h1>"
   ]
  },
  {
   "cell_type": "code",
   "execution_count": 18,
   "id": "bc6d5778-1134-41b7-88e0-ff83d68644b3",
   "metadata": {},
   "outputs": [],
   "source": [
    "#Get video feed\n",
    "camera = cv2.VideoCapture(0)  #number represents the image capture number\n",
    "try:\n",
    "    #50% confidence of detecting a body\n",
    "    with mp_pose.Pose(min_detection_confidence=0.5, min_tracking_confidence=0.5) as pose:  #mediapipe instance as pose\n",
    "        while camera.isOpened():\n",
    "            returned, frame = camera.read()\n",
    "\n",
    "            #Detect poses\n",
    "            image = cv2.cvtColor(frame, cv2.COLOR_BGR2RGB) #Reformat color to RGB\n",
    "            image.flags.writeable = False  #make image read only\n",
    "            \n",
    "            results = pose.process(image)  #make detection stored as array\n",
    "\n",
    "            image.flags.writeable = True  #re-allow modification to image\n",
    "            image = cv2.cvtColor(image, cv2.COLOR_RGB2BGR)  #Reformat color to BGR\n",
    "\n",
    "            #Render poses\n",
    "            landmarks = results.pose_landmarks\n",
    "            connections = mp_pose.POSE_CONNECTIONS\n",
    "            lstyle = mp_drawing.DrawingSpec(color=(152,199,253), thickness=2, circle_radius=2)  #style for landmarks\n",
    "            cstyle = mp_drawing.DrawingSpec(color=(255,255,255), thickness=2, circle_radius=2)  #style for connections\n",
    "                                        \n",
    "            mp_drawing.draw_landmarks(image, landmarks, connections, lstyle, cstyle)  #draw landmarks\n",
    "            \n",
    "            \n",
    "            cv2.imshow(\"Camera Feed\", image)  #show camera feed\n",
    "        \n",
    "            if cv2.waitKey(10) & 0xFF == ord('q'):  #check if camera closed or quit\n",
    "                break\n",
    "\n",
    "finally:  #exit out\n",
    "    camera.release()\n",
    "    cv2.destroyAllWindows()"
   ]
  },
  {
   "cell_type": "markdown",
   "id": "c1c15a70-df42-43ad-b5d2-6e511a5c9ba2",
   "metadata": {},
   "source": [
    "<h1>Joint Stuff</h1>"
   ]
  },
  {
   "cell_type": "markdown",
   "id": "00086af5-7006-4bdc-b132-8c14e0d6b792",
   "metadata": {},
   "source": [
    "<img src='https://www.researchgate.net/publication/361071987/figure/fig2/AS:11431281214731862@1703733107226/33-Landmarks-detected-on-the-human-body-using-MediaPipe.png' alt='Labelled Joints Image' width='500'>"
   ]
  },
  {
   "cell_type": "code",
   "execution_count": 26,
   "id": "e2424fee-e243-4354-b057-d40fcca08e23",
   "metadata": {},
   "outputs": [],
   "source": [
    "#Get video feed\n",
    "camera = cv2.VideoCapture(0)  #number represents the image capture number\n",
    "try:\n",
    "    #50% confidence of detecting a body\n",
    "    with mp_pose.Pose(min_detection_confidence=0.5, min_tracking_confidence=0.5) as pose:  #mediapipe instance as pose\n",
    "        while camera.isOpened():\n",
    "            returned, frame = camera.read()\n",
    "\n",
    "            #Detect poses\n",
    "            image = cv2.cvtColor(frame, cv2.COLOR_BGR2RGB) #Reformat color to RGB\n",
    "            image.flags.writeable = False  #make image read only\n",
    "            \n",
    "            results = pose.process(image)  #make detection stored as array\n",
    "\n",
    "            image.flags.writeable = True  #re-allow modification to image\n",
    "            image = cv2.cvtColor(image, cv2.COLOR_RGB2BGR)  #Reformat color to BGR\n",
    "\n",
    "            #pinpoint landmarks\n",
    "            try:\n",
    "                landmarks = results.pose_landmarks.landmark\n",
    "\n",
    "            except:\n",
    "                pass\n",
    "\n",
    "            #Render poses\n",
    "            landmark_data = results.pose_landmarks\n",
    "            connection_data = mp_pose.POSE_CONNECTIONS\n",
    "            lstyle = mp_drawing.DrawingSpec(color=(152,199,253), thickness=2, circle_radius=2)  #style for landmarks\n",
    "            cstyle = mp_drawing.DrawingSpec(color=(255,255,255), thickness=2, circle_radius=2)  #style for connections\n",
    "                                        \n",
    "            mp_drawing.draw_landmarks(image, landmark_data, connection_data, lstyle, cstyle)  #draw landmarks\n",
    "            \n",
    "            \n",
    "            cv2.imshow(\"Camera Feed\", image)  #show camera feed\n",
    "        \n",
    "            if cv2.waitKey(10) & 0xFF == ord('q'):  #check if camera closed or quit\n",
    "                break\n",
    "\n",
    "finally:  #exit out\n",
    "    camera.release()\n",
    "    cv2.destroyAllWindows()"
   ]
  },
  {
   "cell_type": "code",
   "execution_count": 27,
   "id": "60a8dbee-e26b-4825-9ca8-6adab20bde87",
   "metadata": {},
   "outputs": [
    {
     "data": {
      "text/plain": [
       "x: 0.131724924\n",
       "y: 0.767709136\n",
       "z: -0.326806128\n",
       "visibility: 0.999024808"
      ]
     },
     "execution_count": 27,
     "metadata": {},
     "output_type": "execute_result"
    }
   ],
   "source": [
    "landmarks[mp_pose.PoseLandmark.RIGHT_SHOULDER.value]  #access value of right shoulder"
   ]
  },
  {
   "cell_type": "code",
   "execution_count": 28,
   "id": "647608c9-0a42-4c81-83dc-f675ed49ea06",
   "metadata": {},
   "outputs": [
    {
     "data": {
      "text/plain": [
       "x: 0.0353137031\n",
       "y: 1.17583907\n",
       "z: -0.157471612\n",
       "visibility: 0.400015473"
      ]
     },
     "execution_count": 28,
     "metadata": {},
     "output_type": "execute_result"
    }
   ],
   "source": [
    "landmarks[mp_pose.PoseLandmark.RIGHT_ELBOW.value]  #access value of right elbow"
   ]
  },
  {
   "cell_type": "code",
   "execution_count": 29,
   "id": "004b2ac2-d981-40fc-9c51-e75d491d0ad3",
   "metadata": {},
   "outputs": [
    {
     "data": {
      "text/plain": [
       "x: 0.0589613318\n",
       "y: 1.48322165\n",
       "z: -0.493406713\n",
       "visibility: 0.0873045921"
      ]
     },
     "execution_count": 29,
     "metadata": {},
     "output_type": "execute_result"
    }
   ],
   "source": [
    "landmarks[mp_pose.PoseLandmark.RIGHT_WRIST.value]  #access value of right wrist"
   ]
  },
  {
   "cell_type": "markdown",
   "id": "85d1d976-1158-4b04-8e1a-7dc57541657b",
   "metadata": {},
   "source": [
    "<h1>Calculations For Angles</h1>"
   ]
  },
  {
   "cell_type": "code",
   "execution_count": 68,
   "id": "e0108495-7f4d-45bf-96de-4d6cd2907bb0",
   "metadata": {},
   "outputs": [],
   "source": [
    "def calc_angle(first,second,third):\n",
    "    first = numpy.array(first)  #first joint's coords\n",
    "    second = numpy.array(second)  #second joint's coords\n",
    "    third = numpy.array(third)  #third joint's coords\n",
    "\n",
    "    #radians = [arctan of the vector b to c] - [arctan of the vector a to b]\n",
    "    #if doing shoulder, elbow, wrist then it would be\n",
    "    #radians = arctan(elbow[y]-wrist[y], elbow[x]-wrist[x]) - actan([shoulder[y]-elbow[y], shoulder[x]-elbow[x])\n",
    "    radians = numpy.arctan2(third[1]-second[1], third[0]-second[0]) - numpy.arctan2(first[1]-second[1], first[0]-second[0])\n",
    "    angle = numpy.abs(radians*180.0/numpy.pi)  #turn radians into angle\n",
    "\n",
    "    if angle > 180.0:\n",
    "        angle = 360-angle\n",
    "    return angle"
   ]
  },
  {
   "cell_type": "code",
   "execution_count": 63,
   "id": "ccb5026c-8cb3-4ffe-ab4f-0c8215582794",
   "metadata": {},
   "outputs": [],
   "source": [
    "rShoulder_x = landmarks[mp_pose.PoseLandmark.RIGHT_SHOULDER.value].x  #get x coords\n",
    "rShoulder_y = landmarks[mp_pose.PoseLandmark.RIGHT_SHOULDER.value].y  #get y coords\n",
    "rShoulder = [rShoulder_x, rShoulder_y]  #set rshoulder to be an array with x and y coords"
   ]
  },
  {
   "cell_type": "code",
   "execution_count": 64,
   "id": "9b12b481-8e49-4802-890e-1a05c3669222",
   "metadata": {},
   "outputs": [],
   "source": [
    "rElbow_x = landmarks[mp_pose.PoseLandmark.RIGHT_ELBOW.value].x  #get x coords\n",
    "rElbow_x = landmarks[mp_pose.PoseLandmark.RIGHT_ELBOW.value].y  #get y coords\n",
    "rElbow = [rElbow_x, rElbow_x]  #set relbow to be an array with x and y coords"
   ]
  },
  {
   "cell_type": "code",
   "execution_count": 65,
   "id": "7d6611fb-91f5-4b49-8c30-cd5cffd1e9c5",
   "metadata": {},
   "outputs": [],
   "source": [
    "rWrist_x = landmarks[mp_pose.PoseLandmark.RIGHT_WRIST.value].x  #get x coords\n",
    "rWrist_x = landmarks[mp_pose.PoseLandmark.RIGHT_WRIST.value].y  #get y coords\n",
    "rWrist = [rWrist_x, rWrist_x]  #set rwrist to be an array with x and y coords"
   ]
  },
  {
   "cell_type": "code",
   "execution_count": 66,
   "id": "26589192-b07c-4aa7-8894-8f1be498c7e4",
   "metadata": {},
   "outputs": [
    {
     "data": {
      "text/plain": [
       "10.446091445519249"
      ]
     },
     "execution_count": 66,
     "metadata": {},
     "output_type": "execute_result"
    }
   ],
   "source": [
    "#calculate angle between shoulder elbow wrist\n",
    "calc_angle(rShoulder,rElbow,rWrist)"
   ]
  },
  {
   "cell_type": "code",
   "execution_count": 70,
   "id": "ed2c2137-f415-4e76-bcd8-20b935bb4fe2",
   "metadata": {},
   "outputs": [],
   "source": [
    "# Get video feed\n",
    "camera = cv2.VideoCapture(0)  # Number represents the image capture number\n",
    "try:\n",
    "    # 50% confidence of detecting a body\n",
    "    with mp_pose.Pose(min_detection_confidence=0.5, min_tracking_confidence=0.5) as pose:  # MediaPipe instance as pose\n",
    "        while camera.isOpened():\n",
    "            returned, frame = camera.read()\n",
    "\n",
    "            # Detect poses\n",
    "            image = cv2.cvtColor(frame, cv2.COLOR_BGR2RGB)  # Reformat color to RGB\n",
    "            image.flags.writeable = False  # Make image read only\n",
    "\n",
    "            results = pose.process(image)  # Make detection stored as array\n",
    "\n",
    "            image.flags.writeable = True  # Re-allow modification to image\n",
    "            image = cv2.cvtColor(image, cv2.COLOR_RGB2BGR)  # Reformat color to BGR\n",
    "\n",
    "            # Pinpoint landmarks\n",
    "            try:\n",
    "                landmarks = results.pose_landmarks.landmark\n",
    "\n",
    "                # Coords of the three landmarks trying to calculate\n",
    "                rShoulder = [landmarks[mp_pose.PoseLandmark.RIGHT_SHOULDER.value].x, landmarks[mp_pose.PoseLandmark.RIGHT_SHOULDER.value].y]\n",
    "                rElbow = [landmarks[mp_pose.PoseLandmark.RIGHT_ELBOW.value].x, landmarks[mp_pose.PoseLandmark.RIGHT_ELBOW.value].y]\n",
    "                rWrist = [landmarks[mp_pose.PoseLandmark.RIGHT_WRIST.value].x, landmarks[mp_pose.PoseLandmark.RIGHT_WRIST.value].y]\n",
    "\n",
    "                # Calculate angle between shoulder elbow wrist\n",
    "                angle = calc_angle(rShoulder, rElbow, rWrist)\n",
    "\n",
    "                # Print angle\n",
    "                coords = tuple(numpy.multiply(rElbow, [700, 550]).astype(int))  # Determine positioning in relation to camera dimensions\n",
    "                cv2.putText(image, str(angle), coords, cv2.FONT_HERSHEY_SIMPLEX, 0.5, (202, 19, 12), 2, cv2.LINE_AA)\n",
    "\n",
    "            except Exception as e:\n",
    "                pass\n",
    "\n",
    "            # Render poses\n",
    "            landmark_data = results.pose_landmarks\n",
    "            connection_data = mp_pose.POSE_CONNECTIONS\n",
    "            lstyle = mp_drawing.DrawingSpec(color=(152, 199, 253), thickness=2, circle_radius=2)  # Style for landmarks\n",
    "            cstyle = mp_drawing.DrawingSpec(color=(255, 255, 255), thickness=2, circle_radius=2)  # Style for connections\n",
    "\n",
    "            mp_drawing.draw_landmarks(image, landmark_data, connection_data, lstyle, cstyle)  # Draw landmarks\n",
    "\n",
    "            cv2.imshow(\"Camera Feed\", image)  # Show camera feed\n",
    "\n",
    "            if cv2.waitKey(10) & 0xFF == ord('q'):  # Check if camera closed or quit\n",
    "                break\n",
    "\n",
    "finally:  # Exit out\n",
    "    camera.release()\n",
    "    cv2.destroyAllWindows()\n"
   ]
  },
  {
   "cell_type": "code",
   "execution_count": null,
   "id": "9fc1cf5c-b2a1-47ff-b7c1-908e6f08e418",
   "metadata": {},
   "outputs": [],
   "source": []
  }
 ],
 "metadata": {
  "kernelspec": {
   "display_name": "Python 3 (ipykernel)",
   "language": "python",
   "name": "python3"
  },
  "language_info": {
   "codemirror_mode": {
    "name": "ipython",
    "version": 3
   },
   "file_extension": ".py",
   "mimetype": "text/x-python",
   "name": "python",
   "nbconvert_exporter": "python",
   "pygments_lexer": "ipython3",
   "version": "3.12.3"
  }
 },
 "nbformat": 4,
 "nbformat_minor": 5
}
